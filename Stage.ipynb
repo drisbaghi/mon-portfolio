{
 "cells": [
  {
   "cell_type": "code",
   "execution_count": 1,
   "id": "7b202b21",
   "metadata": {},
   "outputs": [],
   "source": [
    "import os\n",
    "import openai\n",
    "from dotenv import load_dotenv, find_dotenv\n",
    "_ = load_dotenv(find_dotenv()) # read local .env file\n",
    "openai.api_key = os.environ['OPENAI_API_KEY']"
   ]
  },
  {
   "cell_type": "code",
   "execution_count": 7,
   "id": "5c7d84ad",
   "metadata": {},
   "outputs": [],
   "source": [
    "from langchain.document_loaders import WebBaseLoader\n",
    "\n",
    "URLS = [\n",
    "    'https://lscosmetics.ma/',\n",
    "    'https://baraboucle.com/blogs/journal/quel-produit-pour-mon-enfant',\n",
    "    'https://www.lexpress.fr/styles/beaute/ma-fille-hurle-avant-meme-que-la-brosse-atteigne-ses-cheveux_1243047.html',\n",
    "    'https://www.ducray.com/fr-be/etats-pelliculaires/symptomes/pellicules-enfant',\n",
    "    'https://dreamact.eu/fr/blog/article/162/huiles-vegetales',\n",
    "    'https://aunea-cosmetique.fr/comment-prendre-soin-des-cheveux-crepus-des-enfants-au-quotidien/',\n",
    "    'https://lilikiwi.fr/fr/blog/comment-choisir-un-shampoing-pour-enfants--n25',\n",
    "    'https://cheveux.ooreka.fr/astuce/voir/645153/proteger-vos-cheveux-de-la-piscine',\n",
    "    'https://www.passeportsante.net/fr/Actualites/Dossiers/DossierComplexe.aspx?doc=10-astuces-pour-eviter-cheveux-electriques',\n",
    "    'https://madame.lefigaro.fr/beaute/ces-erreurs-que-lon-fait-tous-avec-notre-shampoing-071220-194052',\n",
    "    'https://www.nuoobox.com/blogs/conseils/cosmetiques-bio-conventionnels-differences',\n",
    "    'https://www.kryneo.com/blogs/conseils-capillaires/les-7-types-d-ingredients-a-eviter-dans-les-produits-capillaires',\n",
    "    'https://volna-cosmetiques.fr/routine-cheveux-enfants-ideale/',\n",
    "    'https://clean-sponge.fr/blogs/soin-des-cheveux/conseils-pour-choisir-des-produits-capillaires-vegan-et-ecologiques'\n",
    "]\n",
    "\n",
    "loader = WebBaseLoader(URLS)\n",
    "data = loader.load()"
   ]
  },
  {
   "cell_type": "code",
   "execution_count": 8,
   "id": "b0d7e205",
   "metadata": {},
   "outputs": [
    {
     "name": "stderr",
     "output_type": "stream",
     "text": [
      "Created a chunk of size 10489, which is longer than the specified 5000\n"
     ]
    }
   ],
   "source": [
    "from langchain.text_splitter import CharacterTextSplitter\n",
    "\n",
    "text_splitter = CharacterTextSplitter(chunk_size=5000, chunk_overlap=100)\n",
    "websites_data = text_splitter.split_documents(data)"
   ]
  },
  {
   "cell_type": "code",
   "execution_count": 9,
   "id": "576c85c5",
   "metadata": {},
   "outputs": [],
   "source": [
    "from langchain.embeddings import OpenAIEmbeddings\n",
    "\n",
    "embeddings = OpenAIEmbeddings(deployment=\"embeddings-cosmetics\", embedding_ctx_length=1000)"
   ]
  },
  {
   "cell_type": "code",
   "execution_count": 10,
   "id": "e093e40f",
   "metadata": {},
   "outputs": [],
   "source": [
    "from langchain.vectorstores import Chroma\n",
    "\n",
    "websearch = Chroma.from_documents(websites_data, embeddings)"
   ]
  },
  {
   "cell_type": "code",
   "execution_count": 11,
   "id": "7d97637e",
   "metadata": {},
   "outputs": [],
   "source": [
    "from langchain.chat_models import ChatOpenAI\n",
    "\n",
    "model = ChatOpenAI(model='gpt-4',temperature=0)"
   ]
  },
  {
   "cell_type": "code",
   "execution_count": 12,
   "id": "d03f120e",
   "metadata": {},
   "outputs": [
    {
     "name": "stdout",
     "output_type": "stream",
     "text": [
      "Pour gérer les cheveux bouclés de votre enfant chaque matin, voici quelques conseils :\n",
      "\n",
      "1. Évitez les brosses : Brosser des cheveux bouclés peut les casser et être douloureux pour votre enfant. Privilégiez un peigne à dents larges ou encore mieux, vos doigts.\n",
      "\n",
      "2. Démêlez et hydratez régulièrement : Pour éviter une trop longue session hebdomadaire de démêlage, essayez de coiffer les cheveux de votre enfant tous les jours si votre emploi du temps le permet. Pour aider les nœuds à se défaire et hydrater les longueurs, appliquez une crème ou un lait hydratant sur cheveux secs avant de commencer à démêler.\n",
      "\n",
      "3. Utilisez des produits adaptés : Si les cheveux de votre enfant sont plutôt secs, utilisez la crème Magic Twist des Secrets de Loly, spécialement conçue pour les enfants. Si votre enfant a plutôt des boucles lâches, privilégiez le Smoothie Capillaire des Secrets de Loly, plus léger mais tout aussi hydratant.\n",
      "\n",
      "4. Chaque matin, sur les cheveux encore mouillés, appliquez un peu de Smoothie Ananas des Secrets de Loly pour aider les boucles à rester bien en place. Entre deux lavages, ne démêlez pas les cheveux bouclés avec une brosse ou peigne au risque de faire des fourches et enlever les boucles.\n",
      "\n",
      "5. Vous pouvez également utiliser une lotion démêlante pour ceux qui ont les cheveux vraiment emmêlés, ou un léger bain d'huile pour les cheveux plus secs. \n",
      "\n",
      "N'oubliez pas que chaque enfant est différent et que ce qui fonctionne pour un enfant peut ne pas fonctionner pour un autre. Il peut être nécessaire d'expérimenter avec différents produits et techniques pour trouver ce qui fonctionne le mieux pour votre enfant.\n"
     ]
    }
   ],
   "source": [
    "from langchain.chains import RetrievalQA\n",
    "from langchain.memory import ConversationSummaryMemory\n",
    "memory = ConversationSummaryMemory(\n",
    "    llm=model, memory_key=\"chat_history\"\n",
    ")\n",
    "\n",
    "rag = RetrievalQA.from_chain_type(llm=model, chain_type=\"stuff\", retriever=websearch.as_retriever())\n",
    "\n",
    "question = \"Comment gérer les cheveux bouclés de mon enfant chaque matin?\"\n",
    "response = rag.run(question)\n",
    "print(response)"
   ]
  },
  {
   "cell_type": "code",
   "execution_count": 14,
   "id": "5f40f877",
   "metadata": {},
   "outputs": [],
   "source": [
    "from langchain.prompts import PromptTemplate\n",
    "from langchain.memory import ConversationSummaryMemory\n",
    "from langchain.schema.output_parser import StrOutputParser\n",
    "from langchain.schema.runnable import RunnablePassthrough\n",
    "\n",
    "memory = ConversationSummaryMemory(\n",
    "    llm=model, memory_key=\"chat_history\")\n",
    "\n",
    "template = \"\"\"You are an assistant for question-answering tasks in the field of cosmetics,\n",
    "Use the following pieces of context to answer the question at the end. \n",
    "You should answer the user in his language.\n",
    "If you don't know the answer, just say that you don't know, don't try to make up an answer.\n",
    "Take into consideration the Product Highlights:Pack Enfant: Essential for children's curly haircare.\n",
    "Gel de lin: For defining and structuring hair.\n",
    "Leave in: For deep moisturization.\n",
    "Après-shampoing ultra démêlant: The ultimate solution for detangling.\n",
    "Sérum cheveux sans rinçage à l’acide hyaluronique: For daily hair management\n",
    "Don't forget to ask the user in the right moment about his contact.\n",
    "Always say \"thanks for asking!\" at the end of the answer. \n",
    "{context}\n",
    "Question: {question}\n",
    "Helpful Answer:\"\"\"\n",
    "\n",
    "rag_prompt_custom = PromptTemplate.from_template(template)\n",
    "\n",
    "rag_chain = (\n",
    "    {\"context\": websearch.as_retriever() , \"question\": RunnablePassthrough()}\n",
    "    | rag_prompt_custom\n",
    "    | model\n",
    "    | StrOutputParser()\n",
    ")\n"
   ]
  },
  {
   "cell_type": "code",
   "execution_count": 15,
   "id": "f187acfd",
   "metadata": {},
   "outputs": [
    {
     "data": {
      "text/plain": [
       "\"Le Pack Enfant est essentiel pour le soin des cheveux bouclés des enfants. Il comprend plusieurs produits qui aident à définir, structurer et hydrater les cheveux. Il contient également un après-shampoing ultra démêlant qui est la solution ultime pour le démêlage des cheveux. Enfin, le pack comprend un sérum pour cheveux sans rinçage à l’acide hyaluronique qui est utile pour la gestion quotidienne des cheveux. Merci de me fournir votre contact pour plus de détails. Merci de m'avoir posé la question!\""
      ]
     },
     "execution_count": 15,
     "metadata": {},
     "output_type": "execute_result"
    }
   ],
   "source": [
    "rag_chain.invoke(\"Pouvez-vous me donner plus de détails sur le Pack Enfant?\")"
   ]
  },
  {
   "cell_type": "code",
   "execution_count": null,
   "id": "dfa7c2be",
   "metadata": {},
   "outputs": [],
   "source": [
    "!chainlit run app.py -w"
   ]
  },
  {
   "cell_type": "code",
   "execution_count": null,
   "id": "5d3c0b20",
   "metadata": {},
   "outputs": [],
   "source": []
  },
  {
   "cell_type": "code",
   "execution_count": null,
   "id": "ca6ebb54",
   "metadata": {},
   "outputs": [],
   "source": []
  },
  {
   "cell_type": "code",
   "execution_count": null,
   "id": "270b31b5",
   "metadata": {},
   "outputs": [],
   "source": []
  },
  {
   "cell_type": "code",
   "execution_count": null,
   "id": "8ae4458b",
   "metadata": {},
   "outputs": [],
   "source": []
  }
 ],
 "metadata": {
  "kernelspec": {
   "display_name": "Python 3 (ipykernel)",
   "language": "python",
   "name": "python3"
  },
  "language_info": {
   "codemirror_mode": {
    "name": "ipython",
    "version": 3
   },
   "file_extension": ".py",
   "mimetype": "text/x-python",
   "name": "python",
   "nbconvert_exporter": "python",
   "pygments_lexer": "ipython3",
   "version": "3.11.5"
  }
 },
 "nbformat": 4,
 "nbformat_minor": 5
}
