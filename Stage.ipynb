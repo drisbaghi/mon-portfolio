{
 "cells": [
  {
   "cell_type": "code",
   "execution_count": 1,
   "id": "7b202b21",
   "metadata": {},
   "outputs": [],
   "source": [
    "import os\n",
    "import openai\n",
    "from dotenv import load_dotenv, find_dotenv\n",
    "_ = load_dotenv(find_dotenv()) # read local .env file\n",
    "openai.api_key = os.environ['OPENAI_API_KEY']"
   ]
  },
  {
   "cell_type": "code",
   "execution_count": 7,
   "id": "5c7d84ad",
   "metadata": {},
   "outputs": [],
   "source": [
    "from langchain.document_loaders import WebBaseLoader\n",
    "\n",
    "URLS = [\n",
    "    'https://lscosmetics.ma/',\n",
    "    'https://baraboucle.com/blogs/journal/quel-produit-pour-mon-enfant',\n",
    "    'https://www.lexpress.fr/styles/beaute/ma-fille-hurle-avant-meme-que-la-brosse-atteigne-ses-cheveux_1243047.html',\n",
    "    'https://www.ducray.com/fr-be/etats-pelliculaires/symptomes/pellicules-enfant',\n",
    "    'https://dreamact.eu/fr/blog/article/162/huiles-vegetales',\n",
    "    'https://aunea-cosmetique.fr/comment-prendre-soin-des-cheveux-crepus-des-enfants-au-quotidien/',\n",
    "    'https://lilikiwi.fr/fr/blog/comment-choisir-un-shampoing-pour-enfants--n25',\n",
    "    'https://cheveux.ooreka.fr/astuce/voir/645153/proteger-vos-cheveux-de-la-piscine',\n",
    "    'https://www.passeportsante.net/fr/Actualites/Dossiers/DossierComplexe.aspx?doc=10-astuces-pour-eviter-cheveux-electriques',\n",
    "    'https://madame.lefigaro.fr/beaute/ces-erreurs-que-lon-fait-tous-avec-notre-shampoing-071220-194052',\n",
    "    'https://www.nuoobox.com/blogs/conseils/cosmetiques-bio-conventionnels-differences',\n",
    "    'https://www.kryneo.com/blogs/conseils-capillaires/les-7-types-d-ingredients-a-eviter-dans-les-produits-capillaires',\n",
    "    'https://volna-cosmetiques.fr/routine-cheveux-enfants-ideale/',\n",
    "    'https://clean-sponge.fr/blogs/soin-des-cheveux/conseils-pour-choisir-des-produits-capillaires-vegan-et-ecologiques'\n",
    "]\n",
    "\n",
    "loader = WebBaseLoader(URLS)\n",
    "data = loader.load()"
   ]
  },
  {
   "cell_type": "code",
   "execution_count": 30,
   "id": "b0d7e205",
   "metadata": {},
   "outputs": [
    {
     "name": "stderr",
     "output_type": "stream",
     "text": [
      "Created a chunk of size 10489, which is longer than the specified 5000\n"
     ]
    }
   ],
   "source": [
    "from langchain.text_splitter import CharacterTextSplitter\n",
    "\n",
    "text_splitter = CharacterTextSplitter(chunk_size=5000, chunk_overlap=100)\n",
    "websites_data = text_splitter.split_documents(data)"
   ]
  },
  {
   "cell_type": "code",
   "execution_count": 31,
   "id": "576c85c5",
   "metadata": {},
   "outputs": [],
   "source": [
    "from langchain.embeddings import OpenAIEmbeddings\n",
    "\n",
    "embeddings = OpenAIEmbeddings(deployment=\"embeddings-cosmetics\", embedding_ctx_length=9000)"
   ]
  },
  {
   "cell_type": "code",
   "execution_count": 32,
   "id": "e093e40f",
   "metadata": {},
   "outputs": [],
   "source": [
    "from langchain.vectorstores import Chroma\n",
    "\n",
    "websearch = Chroma.from_documents(websites_data, embeddings)"
   ]
  },
  {
   "cell_type": "code",
   "execution_count": 33,
   "id": "7d97637e",
   "metadata": {},
   "outputs": [],
   "source": [
    "from langchain.chat_models import ChatOpenAI\n",
    "\n",
    "model = ChatOpenAI(model='gpt-4',temperature=0)"
   ]
  },
  {
   "cell_type": "code",
   "execution_count": 37,
   "id": "5f40f877",
   "metadata": {},
   "outputs": [],
   "source": [
    "from langchain.prompts import PromptTemplate\n",
    "from langchain.memory import ConversationSummaryMemory\n",
    "from langchain.schema.output_parser import StrOutputParser\n",
    "from langchain.schema.runnable import RunnablePassthrough\n",
    "\n",
    "memory = ConversationSummaryMemory(\n",
    "    llm=model, memory_key=\"chat_history\")\n",
    "\n",
    "template = \"\"\"You are an assistant for question-answering tasks in the field of cosmetics,\n",
    "Use the following pieces of context to answer the question at the end. \n",
    "You should answer the user in his language either french or english or Moroccan arabic.\n",
    "If you don't know the answer, just say that you don't know, don't try to make up an answer.\n",
    "Take into consideration the Product Highlights:Pack Enfant: Essential for children's curly haircare.\n",
    "Gel de lin: For defining and structuring hair.\n",
    "Leave in: For deep moisturization.\n",
    "Après-shampoing ultra démêlant: The ultimate solution for detangling.\n",
    "Sérum cheveux sans rinçage à l’acide hyaluronique: For daily hair management\n",
    "Don't forget to ask the user in the right moment about his contact. \n",
    "{context}\n",
    "Question: {question}\n",
    "Helpful Answer:\"\"\"\n",
    "\n",
    "rag_prompt_custom = PromptTemplate.from_template(template)\n",
    "\n",
    "rag_chain = (\n",
    "    {\"context\": websearch.as_retriever() , \"question\": RunnablePassthrough()}\n",
    "    | rag_prompt_custom\n",
    "    | model\n",
    "    | StrOutputParser()\n",
    ")\n"
   ]
  },
  {
   "cell_type": "code",
   "execution_count": null,
   "id": "f187acfd",
   "metadata": {},
   "outputs": [],
   "source": [
    "rag_chain.invoke(\"Wach 3andkoum produits li cha3r boucle diall atfal?\")"
   ]
  },
  {
   "cell_type": "code",
   "execution_count": null,
   "id": "dfa7c2be",
   "metadata": {},
   "outputs": [],
   "source": [
    "!chainlit run app.py -w"
   ]
  },
  {
   "cell_type": "code",
   "execution_count": null,
   "id": "5d3c0b20",
   "metadata": {},
   "outputs": [],
   "source": []
  },
  {
   "cell_type": "code",
   "execution_count": null,
   "id": "ca6ebb54",
   "metadata": {},
   "outputs": [],
   "source": []
  },
  {
   "cell_type": "code",
   "execution_count": null,
   "id": "270b31b5",
   "metadata": {},
   "outputs": [],
   "source": []
  },
  {
   "cell_type": "code",
   "execution_count": null,
   "id": "8ae4458b",
   "metadata": {},
   "outputs": [],
   "source": []
  }
 ],
 "metadata": {
  "kernelspec": {
   "display_name": "Python 3 (ipykernel)",
   "language": "python",
   "name": "python3"
  },
  "language_info": {
   "codemirror_mode": {
    "name": "ipython",
    "version": 3
   },
   "file_extension": ".py",
   "mimetype": "text/x-python",
   "name": "python",
   "nbconvert_exporter": "python",
   "pygments_lexer": "ipython3",
   "version": "3.11.5"
  }
 },
 "nbformat": 4,
 "nbformat_minor": 5
}
